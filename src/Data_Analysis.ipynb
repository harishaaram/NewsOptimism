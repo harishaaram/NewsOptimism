{
 "cells": [
  {
   "cell_type": "markdown",
   "metadata": {},
   "source": [
    "# Analysis"
   ]
  },
  {
   "cell_type": "code",
   "execution_count": 1,
   "metadata": {},
   "outputs": [],
   "source": [
    "import plotly\n",
    "import os\n",
    "import json\n",
    "path = \"./PycharmProjects/NewsOptimism/\""
   ]
  },
  {
   "cell_type": "code",
   "execution_count": 2,
   "metadata": {},
   "outputs": [],
   "source": [
    "os.chdir( path )"
   ]
  },
  {
   "cell_type": "code",
   "execution_count": 5,
   "metadata": {},
   "outputs": [],
   "source": [
    "from secrets import secrets as s"
   ]
  },
  {
   "cell_type": "code",
   "execution_count": 6,
   "metadata": {
    "collapsed": true
   },
   "outputs": [],
   "source": [
    "plotly.tools.set_credentials_file(username=s.username, api_key=s.api_key)"
   ]
  },
  {
   "cell_type": "markdown",
   "metadata": {},
   "source": [
    "# Extract Information from Json files"
   ]
  },
  {
   "cell_type": "code",
   "execution_count": 8,
   "metadata": {
    "collapsed": true
   },
   "outputs": [],
   "source": [
    "json_folder = '/home/harish/PycharmProjects/NewsOptimism/json_data/'\n",
    "cnn = {}\n",
    "reuters = {} \n",
    "nytimes = {} \n",
    "foxnews = {} \n",
    "huffingtonpost = {}\n",
    "\n",
    "cnn_norm = {}\n",
    "reuters_norm = {} \n",
    "nytimes_norm = {} \n",
    "foxnews_norm = {} \n",
    "huffingtonpost_norm = {}\n",
    "\n",
    "\n",
    "reu_neg = {}\n",
    "reu_pos = {}\n",
    "cnn_neg = {}\n",
    "cnn_pos = {}\n",
    "huff_neg = {}\n",
    "huff_pos = {}\n",
    "nyt_neg = {}\n",
    "nyt_pos = {}\n",
    "fox_neg = {}\n",
    "fox_pos = {}\n",
    "\n",
    "x_val = {}\n",
    "for i,y,h in os.walk(json_folder):\n",
    "    for f in h:\n",
    "        fname = os.path.join(i,f)\n",
    "        d = json.load(open(fname))\n",
    "        naming = fname.split('/')[-2]\n",
    "        \n",
    "        if naming == 'reuters':\n",
    "            reuters[d['Date']] = d['NetOutcome']\n",
    "            reuters_norm[d['Date']] = d['NetOutcome']/(len(d['pos']) + len(d['neg']))\n",
    "            reu_pos[d['Date']] = d['posCount']\n",
    "            reu_neg[d['Date']] = d['negCount']\n",
    "        if naming == 'cnn':\n",
    "            cnn[d['Date']] = d['NetOutcome']\n",
    "            cnn_norm[d['Date']] = d['NetOutcome']/(len(d['pos']) + len(d['neg']))\n",
    "            cnn_pos[d['Date']] = d['posCount']\n",
    "            cnn_neg[d['Date']] = d['negCount']\n",
    "        if naming == 'foxnews':\n",
    "            foxnews[d['Date']] = d['NetOutcome']\n",
    "            foxnews_norm[d['Date']] = d['NetOutcome']/(len(d['pos']) + len(d['neg']))\n",
    "            fox_pos[d['Date']] = d['posCount']\n",
    "            fox_neg[d['Date']] = d['negCount']\n",
    "        if naming == 'huffingtonpost':\n",
    "            huffingtonpost[d['Date']] = d['NetOutcome']\n",
    "            huffingtonpost_norm[d['Date']] = d['NetOutcome']/(len(d['pos']) + len(d['neg']))\n",
    "            huff_pos[d['Date']] = d['posCount']\n",
    "            huff_neg[d['Date']] = d['negCount']\n",
    "        if naming == 'nytimes':\n",
    "            nytimes[d['Date']] = d['NetOutcome']\n",
    "            nytimes_norm[d['Date']] = d['NetOutcome']/(len(d['pos']) + len(d['neg']))\n",
    "            nyt_pos[d['Date']] = d['posCount']\n",
    "            nyt_neg[d['Date']] = d['negCount']\n",
    "              \n",
    "    "
   ]
  },
  {
   "cell_type": "code",
   "execution_count": 9,
   "metadata": {
    "collapsed": true
   },
   "outputs": [],
   "source": [
    "x_val = sorted(nytimes)"
   ]
  },
  {
   "cell_type": "code",
   "execution_count": 10,
   "metadata": {
    "collapsed": true
   },
   "outputs": [],
   "source": [
    "\n",
    "reuters_list = [reuters[dateval] for dateval in x_val]\n",
    "cnn_list = [cnn[dateval] for dateval in x_val]\n",
    "nytimes_list = [nytimes[dateval] for dateval in x_val]\n",
    "foxnews_list = [foxnews[dateval] for dateval in x_val]\n",
    "huffingtonpost_list = [huffingtonpost[dateval] for dateval in x_val]\n",
    "\n",
    "reuters_norm_list = [reuters_norm[dateval] for dateval in x_val]\n",
    "cnn_norm_list = [cnn_norm[dateval] for dateval in x_val]\n",
    "nytimes_norm_list = [nytimes_norm[dateval] for dateval in x_val]\n",
    "foxnews_norm_list = [foxnews_norm[dateval] for dateval in x_val]\n",
    "huffingtonpost_norm_list = [huffingtonpost_norm[dateval] for dateval in x_val]\n"
   ]
  },
  {
   "cell_type": "markdown",
   "metadata": {},
   "source": [
    "## Normalized Sentiment Score"
   ]
  },
  {
   "cell_type": "code",
   "execution_count": 11,
   "metadata": {},
   "outputs": [
    {
     "data": {
      "text/html": [
       "<iframe id=\"igraph\" scrolling=\"no\" style=\"border:none;\" seamless=\"seamless\" src=\"https://plot.ly/~hramachandran/4.embed\" height=\"525px\" width=\"100%\"></iframe>"
      ],
      "text/plain": [
       "<plotly.tools.PlotlyDisplay object>"
      ]
     },
     "execution_count": 11,
     "metadata": {},
     "output_type": "execute_result"
    }
   ],
   "source": [
    "import plotly.plotly as py\n",
    "import plotly.graph_objs as go\n",
    "\n",
    "import datetime\n",
    "\n",
    "def to_unix_time(dt):\n",
    "    epoch =  datetime.datetime.utcfromtimestamp(0)\n",
    "    return (dt - epoch).total_seconds() * 1000\n",
    "\n",
    "x = []\n",
    "x = [datetime.datetime(year=2017, month=10, day=6),\n",
    "     datetime.datetime(year=2017, month=10, day=7),\n",
    "    datetime.datetime(year=2017, month=10, day=8),\n",
    "    datetime.datetime(year=2017, month=10, day=9),\n",
    "    datetime.datetime(year=2017, month=10, day=10),\n",
    "    datetime.datetime(year=2017, month=10, day=11),\n",
    "    datetime.datetime(year=2017, month=10, day=12),\n",
    "    datetime.datetime(year=2017, month=10, day=13),\n",
    "    datetime.datetime(year=2017, month=10, day=14),\n",
    "    datetime.datetime(year=2017, month=10, day=15),\n",
    "    datetime.datetime(year=2017, month=10, day=16),\n",
    "    datetime.datetime(year=2017, month=10, day=17),\n",
    "    datetime.datetime(year=2017, month=10, day=18),\n",
    "    datetime.datetime(year=2017, month=10, day=19),\n",
    "    datetime.datetime(year=2017, month=10, day=20),\n",
    "    datetime.datetime(year=2017, month=10, day=21),\n",
    "    datetime.datetime(year=2017, month=10, day=22),\n",
    "    datetime.datetime(year=2017, month=10, day=23),\n",
    "    datetime.datetime(year=2017, month=10, day=24),\n",
    "    datetime.datetime(year=2017, month=10, day=25),\n",
    "    datetime.datetime(year=2017, month=10, day=26),\n",
    "    datetime.datetime(year=2017, month=10, day=27),\n",
    "    datetime.datetime(year=2017, month=10, day=28),\n",
    "     datetime.datetime(year=2017, month=10, day=29),\n",
    "    datetime.datetime(year=2017, month=10, day=30),\n",
    "    datetime.datetime(year=2017, month=10, day=31),\n",
    "    datetime.datetime(year=2017, month=11, day=1),\n",
    "    datetime.datetime(year=2017, month=11, day=2),\n",
    "    datetime.datetime(year=2017, month=11, day=3),\n",
    "    datetime.datetime(year=2017, month=11, day=4),\n",
    "    datetime.datetime(year=2017, month=11, day=5),\n",
    "    datetime.datetime(year=2017, month=11, day=6),\n",
    "    datetime.datetime(year=2017, month=11, day=7),\n",
    "    datetime.datetime(year=2017, month=11, day=8)]\n",
    "\n",
    "\n",
    "data = [go.Scatter(\n",
    "            x=x,\n",
    "            y=reuters_norm_list,\n",
    "    name = 'Reuters'),go.Scatter(\n",
    "            x=x,\n",
    "            y=cnn_norm_list,\n",
    "    name = 'CNN'),go.Scatter(\n",
    "            x=x,\n",
    "            y=huffingtonpost_norm_list,\n",
    "    name = 'Huffingtonpost'),go.Scatter(\n",
    "            x=x,\n",
    "            y=foxnews_norm_list,\n",
    "    name = 'foxnews'),go.Scatter(\n",
    "            x=x,\n",
    "            y=nytimes_norm_list,\n",
    "    name = 'nytimes')]\n",
    "\n",
    "annotations = []\n",
    "annotations.append(dict(xref='paper', yref='paper', x=0.0, y=1.05,\n",
    "                              xanchor='left', yanchor='bottom',\n",
    "                              text='Normalized Score Distribution of News media',\n",
    "                              font=dict(family='Arial',\n",
    "                                        size=30,\n",
    "                                        color='rgb(37,37,37)'),\n",
    "                              showarrow=False))\n",
    "annotations.append(dict(xref='paper', yref='paper', x=0.4, y=1.05,\n",
    "                              xanchor='center', yanchor='top',\n",
    "                              text='Source: (c) https://github.com/harishaaram/NewsOptimism',\n",
    "                              font=dict(family='Arial',\n",
    "                                        size=12,\n",
    "                                        color='rgb(150,150,150)'),\n",
    "                              showarrow=False))\n",
    "\n",
    "layout = go.Layout(xaxis = dict(title = 'Date',\n",
    "                   range = [to_unix_time(datetime.datetime(2017, 10, 5)),\n",
    "                            to_unix_time(datetime.datetime(2017, 11, 15))]\n",
    "    ),        yaxis = dict(title = 'Net Normalized score'))\n",
    "\n",
    "layout['annotations'] = annotations\n",
    "\n",
    "fig = dict(data=data, layout=layout)\n",
    "py.iplot(fig, filename='styled-line')"
   ]
  },
  {
   "cell_type": "code",
   "execution_count": null,
   "metadata": {},
   "outputs": [],
   "source": [
    "import plotly.plotly as py\n",
    "import plotly.graph_objs as go\n",
    "\n",
    "import datetime\n",
    "\n",
    "def to_unix_time(dt):\n",
    "    epoch =  datetime.datetime.utcfromtimestamp(0)\n",
    "    return (dt - epoch).total_seconds() * 1000\n",
    "\n",
    "x = []\n",
    "x = [datetime.datetime(year=2017, month=10, day=6),\n",
    "     datetime.datetime(year=2017, month=10, day=7),\n",
    "    datetime.datetime(year=2017, month=10, day=8),\n",
    "    datetime.datetime(year=2017, month=10, day=9),\n",
    "    datetime.datetime(year=2017, month=10, day=10),\n",
    "    datetime.datetime(year=2017, month=10, day=11),\n",
    "    datetime.datetime(year=2017, month=10, day=12),\n",
    "    datetime.datetime(year=2017, month=10, day=13),\n",
    "    datetime.datetime(year=2017, month=10, day=14),\n",
    "    datetime.datetime(year=2017, month=10, day=15),\n",
    "    datetime.datetime(year=2017, month=10, day=16),\n",
    "    datetime.datetime(year=2017, month=10, day=17),\n",
    "    datetime.datetime(year=2017, month=10, day=18),\n",
    "    datetime.datetime(year=2017, month=10, day=19),\n",
    "    datetime.datetime(year=2017, month=10, day=20),\n",
    "    datetime.datetime(year=2017, month=10, day=21),\n",
    "    datetime.datetime(year=2017, month=10, day=22),\n",
    "    datetime.datetime(year=2017, month=10, day=23),\n",
    "    datetime.datetime(year=2017, month=10, day=24),\n",
    "    datetime.datetime(year=2017, month=10, day=25),\n",
    "    datetime.datetime(year=2017, month=10, day=26),\n",
    "    datetime.datetime(year=2017, month=10, day=27),\n",
    "    datetime.datetime(year=2017, month=10, day=28),\n",
    "     datetime.datetime(year=2017, month=10, day=29),\n",
    "    datetime.datetime(year=2017, month=10, day=30),\n",
    "    datetime.datetime(year=2017, month=10, day=31),\n",
    "    datetime.datetime(year=2017, month=11, day=1),\n",
    "    datetime.datetime(year=2017, month=11, day=2),\n",
    "    datetime.datetime(year=2017, month=11, day=3),\n",
    "    datetime.datetime(year=2017, month=11, day=4),\n",
    "    datetime.datetime(year=2017, month=11, day=5),\n",
    "    datetime.datetime(year=2017, month=11, day=6),\n",
    "    datetime.datetime(year=2017, month=11, day=7),\n",
    "    datetime.datetime(year=2017, month=11, day=8)]\n",
    "data = [go.Scatter(\n",
    "            x=x,\n",
    "            y=reuters_list,\n",
    "    name = 'Reuters'),go.Scatter(\n",
    "            x=x,\n",
    "            y=cnn_list,\n",
    "    name = 'CNN'),go.Scatter(\n",
    "            x=x,\n",
    "            y=huffingtonpost_list,\n",
    "    name = 'Huffingtonpost'),go.Scatter(\n",
    "            x=x,\n",
    "            y=foxnews_list,\n",
    "    name = 'foxnews'),go.Scatter(\n",
    "            x=x,\n",
    "            y=nytimes_list,\n",
    "    name = 'nytimes')]\n",
    "\n",
    "\n",
    "annotations = []\n",
    "annotations.append(dict(xref='paper', yref='paper', x=0.0, y=1.05,\n",
    "                              xanchor='left', yanchor='bottom',\n",
    "                              text='Net Score Distribution of News media',\n",
    "                              font=dict(family='Arial',\n",
    "                                        size=30,\n",
    "                                        color='rgb(37,37,37)'),\n",
    "                              showarrow=False))\n",
    "annotations.append(dict(xref='paper', yref='paper', x=0.4, y=1.05,\n",
    "                              xanchor='center', yanchor='top',\n",
    "                              text='Source: Research conducted by https://github.com/harishaaram/NewsOptimism',\n",
    "                              font=dict(family='Arial',\n",
    "                                        size=12,\n",
    "                                        color='rgb(150,150,150)'),\n",
    "                              showarrow=False))\n",
    "\n",
    "layout = go.Layout(xaxis = dict(title = 'Date',\n",
    "                   range = [to_unix_time(datetime.datetime(2017, 10, 5)),\n",
    "                            to_unix_time(datetime.datetime(2017, 11, 15))]\n",
    "    ),        yaxis = dict(title = 'Net score'))\n",
    "\n",
    "layout['annotations'] = annotations\n",
    "\n",
    "fig = dict(data=data, layout=layout)\n",
    "py.iplot(fig, filename='styled-line')"
   ]
  },
  {
   "cell_type": "markdown",
   "metadata": {},
   "source": [
    "## Net Negative terms sentiment Score"
   ]
  },
  {
   "cell_type": "code",
   "execution_count": 12,
   "metadata": {},
   "outputs": [
    {
     "data": {
      "text/html": [
       "<iframe id=\"igraph\" scrolling=\"no\" style=\"border:none;\" seamless=\"seamless\" src=\"https://plot.ly/~hramachandran/4.embed\" height=\"525px\" width=\"100%\"></iframe>"
      ],
      "text/plain": [
       "<plotly.tools.PlotlyDisplay object>"
      ]
     },
     "execution_count": 12,
     "metadata": {},
     "output_type": "execute_result"
    }
   ],
   "source": [
    "import plotly.plotly as py\n",
    "import plotly.graph_objs as go\n",
    "\n",
    "# Add data\n",
    "\n",
    "huff_neg_dist = [huff_neg[dateval] for dateval in x_val]\n",
    "nyt_neg_dist = [nyt_neg[dateval] for dateval in x_val]\n",
    "cnn_neg_dist = [cnn_neg[dateval] for dateval in x_val]\n",
    "fox_neg_dist = [fox_neg[dateval] for dateval in x_val]\n",
    "reu_neg_dist = [reu_neg[dateval] for dateval in x_val]\n",
    "\n",
    "\n",
    "# Create and style traces\n",
    "trace1 = go.Scatter(\n",
    "    x = x,\n",
    "    y = reu_neg_dist,\n",
    "    name = 'Reuters'\n",
    ")\n",
    "trace2 = go.Scatter(\n",
    "    x = x,\n",
    "    y = cnn_neg_dist,\n",
    "    name = 'High 2007'\n",
    ")\n",
    "trace3 = go.Scatter(\n",
    "    x = x,\n",
    "    y = fox_neg_dist,\n",
    "    name = 'Foxnews'\n",
    ")\n",
    "trace4 = go.Scatter(\n",
    "    x = x,\n",
    "    y = huff_neg_dist,\n",
    "    name = 'HuffingtonPost'\n",
    ")\n",
    "trace5 = go.Scatter(\n",
    "    x = x,\n",
    "    y = nyt_neg_dist,\n",
    "    name = 'Nytimes'\n",
    ")\n",
    "data = [trace1, trace2,trace3, trace4, trace5]\n",
    "\n",
    "# Edit the layout\n",
    "layout = dict(title = 'Negative word distribution',\n",
    "              xaxis = dict(title = 'Date'),\n",
    "              yaxis = dict(title = 'Net Negative Score'),\n",
    "              )\n",
    "\n",
    "fig = dict(data=data, layout=layout)\n",
    "py.iplot(fig, filename='styled-line')"
   ]
  },
  {
   "cell_type": "markdown",
   "metadata": {},
   "source": [
    "## Postive and Negative Terms distribution"
   ]
  },
  {
   "cell_type": "code",
   "execution_count": 13,
   "metadata": {
    "collapsed": true
   },
   "outputs": [],
   "source": [
    "reuters_neg = [reu_neg[dateval] for dateval in x_val]\n",
    "cnn_neg = [cnn_neg[dateval] for dateval in x_val]\n",
    "nytimes_neg = [nyt_neg[dateval] for dateval in x_val]\n",
    "foxnews_neg = [fox_neg[dateval] for dateval in x_val]\n",
    "huffingtonpost_neg = [huff_neg[dateval] for dateval in x_val]"
   ]
  },
  {
   "cell_type": "code",
   "execution_count": 14,
   "metadata": {
    "collapsed": true
   },
   "outputs": [],
   "source": [
    "reuters_pos = [reu_pos[dateval] for dateval in x_val]\n",
    "cnn_pos = [cnn_pos[dateval] for dateval in x_val]\n",
    "nytimes_pos = [nyt_pos[dateval] for dateval in x_val]\n",
    "foxnews_pos = [fox_pos[dateval] for dateval in x_val]\n",
    "huffingtonpost_pos = [huff_pos[dateval] for dateval in x_val]"
   ]
  },
  {
   "cell_type": "code",
   "execution_count": 15,
   "metadata": {},
   "outputs": [
    {
     "data": {
      "text/html": [
       "<iframe id=\"igraph\" scrolling=\"no\" style=\"border:none;\" seamless=\"seamless\" src=\"https://plot.ly/~hramachandran/32.embed\" height=\"525px\" width=\"100%\"></iframe>"
      ],
      "text/plain": [
       "<plotly.tools.PlotlyDisplay object>"
      ]
     },
     "execution_count": 15,
     "metadata": {},
     "output_type": "execute_result"
    }
   ],
   "source": [
    "import plotly.plotly as py\n",
    "import plotly.graph_objs as go\n",
    "\n",
    "trace1 = go.Bar(\n",
    "    x=x,\n",
    "    y=foxnews_pos,\n",
    "    name='FoxNews'\n",
    ")\n",
    "trace2 = go.Bar(\n",
    "    x=x,\n",
    "    y=nytimes_pos,\n",
    "    name='NYtimes'\n",
    ")\n",
    "trace3 = go.Bar(\n",
    "    x=x,\n",
    "    y=huffingtonpost_pos,\n",
    "    name='HUffingtonPost'\n",
    ")\n",
    "trace4 = go.Bar(\n",
    "    x=x,\n",
    "    y=cnn_pos,\n",
    "    name='CNN'\n",
    ")\n",
    "trace5 = go.Bar(\n",
    "    x=x,\n",
    "    y=reuters_pos,\n",
    "    name='Reuters'\n",
    ")\n",
    "\n",
    "data = [trace1, trace2, trace3, trace4, trace5]\n",
    "layout = go.Layout(\n",
    "    barmode='stack'\n",
    ")\n",
    "\n",
    "fig = go.Figure(data=data, layout=layout)\n",
    "py.iplot(fig, filename='stacked-bar')"
   ]
  },
  {
   "cell_type": "code",
   "execution_count": 16,
   "metadata": {},
   "outputs": [
    {
     "data": {
      "text/html": [
       "<iframe id=\"igraph\" scrolling=\"no\" style=\"border:none;\" seamless=\"seamless\" src=\"https://plot.ly/~hramachandran/32.embed\" height=\"525px\" width=\"100%\"></iframe>"
      ],
      "text/plain": [
       "<plotly.tools.PlotlyDisplay object>"
      ]
     },
     "execution_count": 16,
     "metadata": {},
     "output_type": "execute_result"
    }
   ],
   "source": [
    "import plotly.plotly as py\n",
    "import plotly.graph_objs as go\n",
    "\n",
    "trace11 = go.Bar(\n",
    "    x=x,\n",
    "    y=foxnews_neg,\n",
    "    name='FoxNews'\n",
    ")\n",
    "trace21 = go.Bar(\n",
    "    x=x,\n",
    "    y=nytimes_neg,\n",
    "    name='NYtimes'\n",
    ")\n",
    "trace31 = go.Bar(\n",
    "    x=x,\n",
    "    y=huffingtonpost_neg,\n",
    "    name='HUffingtonPost'\n",
    ")\n",
    "trace41 = go.Bar(\n",
    "    x=x,\n",
    "    y=cnn_neg,\n",
    "    name='CNN'\n",
    ")\n",
    "trace51 = go.Bar(\n",
    "    x=x,\n",
    "    y=reuters_neg,\n",
    "    name='Reuters'\n",
    ")\n",
    "\n",
    "data = [trace11, trace21, trace31, trace41, trace51]\n",
    "layout = go.Layout(\n",
    "    barmode='stack'\n",
    ")\n",
    "\n",
    "fig = go.Figure(data=data, layout=layout)\n",
    "py.iplot(fig, filename='stacked-bar')"
   ]
  }
 ],
 "metadata": {
  "kernelspec": {
   "display_name": "Python 3",
   "language": "python",
   "name": "python3"
  },
  "language_info": {
   "codemirror_mode": {
    "name": "ipython",
    "version": 3
   },
   "file_extension": ".py",
   "mimetype": "text/x-python",
   "name": "python",
   "nbconvert_exporter": "python",
   "pygments_lexer": "ipython3",
   "version": "3.5.2"
  }
 },
 "nbformat": 4,
 "nbformat_minor": 2
}
