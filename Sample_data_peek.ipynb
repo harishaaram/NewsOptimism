{
 "cells": [
  {
   "cell_type": "code",
   "execution_count": 2,
   "metadata": {},
   "outputs": [
    {
     "data": {
      "text/html": [
       "<div>\n",
       "<table border=\"1\" class=\"dataframe\">\n",
       "  <thead>\n",
       "    <tr style=\"text-align: right;\">\n",
       "      <th></th>\n",
       "      <th>Unnamed: 0</th>\n",
       "      <th>KEYWORDS</th>\n",
       "      <th>SUMMARY</th>\n",
       "      <th>TEXT</th>\n",
       "      <th>TITLE</th>\n",
       "      <th>URL</th>\n",
       "    </tr>\n",
       "  </thead>\n",
       "  <tbody>\n",
       "    <tr>\n",
       "      <th>0</th>\n",
       "      <td>0</td>\n",
       "      <td>['coastguard', 'italy', '100', 'boat', 'offici...</td>\n",
       "      <td>Libya's coastguard intercepted a boat carrying...</td>\n",
       "      <td>ROUGH CUT (NO REPORTER NARRATION). Libya's coa...</td>\n",
       "      <td>Libyan coastguard intercepts boat carrying ove...</td>\n",
       "      <td>https://www.reuters.com/video/2017/08/29/libya...</td>\n",
       "    </tr>\n",
       "    <tr>\n",
       "      <th>3</th>\n",
       "      <td>3</td>\n",
       "      <td>['afghanistan', 'commentary', 'real', 'irans',...</td>\n",
       "      <td>U.S. troops assess the damage to an armored ve...</td>\n",
       "      <td>U.S. troops assess the damage to an armored ve...</td>\n",
       "      <td>Commentary: The real deal Trump has to make on...</td>\n",
       "      <td>https://www.reuters.com/article/us-behravesh-a...</td>\n",
       "    </tr>\n",
       "    <tr>\n",
       "      <th>5</th>\n",
       "      <td>5</td>\n",
       "      <td>['north', 'korean', 'kim', 'change', 'korea', ...</td>\n",
       "      <td>FILE PHOTO: A guard walks along a platform pas...</td>\n",
       "      <td>FILE PHOTO: A guard walks along a platform pas...</td>\n",
       "      <td>Russia throws North Korea lifeline to stymie r...</td>\n",
       "      <td>https://www.reuters.com/article/us-northkorea-...</td>\n",
       "    </tr>\n",
       "    <tr>\n",
       "      <th>9</th>\n",
       "      <td>9</td>\n",
       "      <td>['north', 'sobre', 'direct', 'eventual', 'kore...</td>\n",
       "      <td>North Korea RevealedU.S. not ruling out eventu...</td>\n",
       "      <td>North Korea Revealed\\n\\nU.S. not ruling out ev...</td>\n",
       "      <td>Papa critica implícitamente a EEUU por dejar a...</td>\n",
       "      <td>https://www.reuters.com/article/topNews/idARL2...</td>\n",
       "    </tr>\n",
       "    <tr>\n",
       "      <th>10</th>\n",
       "      <td>10</td>\n",
       "      <td>['university', 'wild', 'singing', 'hear', 'zal...</td>\n",
       "      <td>UPSOT: MICE SINGING This mouse song was record...</td>\n",
       "      <td>Mice are natural born singers. But, unlike bir...</td>\n",
       "      <td>Innovations News Video</td>\n",
       "      <td>https://www.reuters.com/video/innovations</td>\n",
       "    </tr>\n",
       "  </tbody>\n",
       "</table>\n",
       "</div>"
      ],
      "text/plain": [
       "    Unnamed: 0                                           KEYWORDS  \\\n",
       "0            0  ['coastguard', 'italy', '100', 'boat', 'offici...   \n",
       "3            3  ['afghanistan', 'commentary', 'real', 'irans',...   \n",
       "5            5  ['north', 'korean', 'kim', 'change', 'korea', ...   \n",
       "9            9  ['north', 'sobre', 'direct', 'eventual', 'kore...   \n",
       "10          10  ['university', 'wild', 'singing', 'hear', 'zal...   \n",
       "\n",
       "                                              SUMMARY  \\\n",
       "0   Libya's coastguard intercepted a boat carrying...   \n",
       "3   U.S. troops assess the damage to an armored ve...   \n",
       "5   FILE PHOTO: A guard walks along a platform pas...   \n",
       "9   North Korea RevealedU.S. not ruling out eventu...   \n",
       "10  UPSOT: MICE SINGING This mouse song was record...   \n",
       "\n",
       "                                                 TEXT  \\\n",
       "0   ROUGH CUT (NO REPORTER NARRATION). Libya's coa...   \n",
       "3   U.S. troops assess the damage to an armored ve...   \n",
       "5   FILE PHOTO: A guard walks along a platform pas...   \n",
       "9   North Korea Revealed\\n\\nU.S. not ruling out ev...   \n",
       "10  Mice are natural born singers. But, unlike bir...   \n",
       "\n",
       "                                                TITLE  \\\n",
       "0   Libyan coastguard intercepts boat carrying ove...   \n",
       "3   Commentary: The real deal Trump has to make on...   \n",
       "5   Russia throws North Korea lifeline to stymie r...   \n",
       "9   Papa critica implícitamente a EEUU por dejar a...   \n",
       "10                             Innovations News Video   \n",
       "\n",
       "                                                  URL  \n",
       "0   https://www.reuters.com/video/2017/08/29/libya...  \n",
       "3   https://www.reuters.com/article/us-behravesh-a...  \n",
       "5   https://www.reuters.com/article/us-northkorea-...  \n",
       "9   https://www.reuters.com/article/topNews/idARL2...  \n",
       "10          https://www.reuters.com/video/innovations  "
      ]
     },
     "execution_count": 2,
     "metadata": {},
     "output_type": "execute_result"
    }
   ],
   "source": [
    "import pandas as pd\n",
    "import os\n",
    "os.chdir('/home/harish/PycharmProjects/NewsOptimism/')\n",
    "df = pd.read_csv('reuters.csv')\n",
    "df = df.dropna(how='any')\n",
    "df.head()"
   ]
  },
  {
   "cell_type": "code",
   "execution_count": null,
   "metadata": {
    "collapsed": true
   },
   "outputs": [],
   "source": [
    "#Have a peek into the data set(here I am using the first(ie 0th) index)"
   ]
  },
  {
   "cell_type": "code",
   "execution_count": 5,
   "metadata": {},
   "outputs": [
    {
     "data": {
      "text/plain": [
       "\"['coastguard', 'italy', '100', 'boat', 'official', 'intercepts', 'mediterranean', 'migration', 'migrants', 'sea', 'taken', 'libyan', 'carrying', 'libya', 'onboard']\""
      ]
     },
     "execution_count": 5,
     "metadata": {},
     "output_type": "execute_result"
    }
   ],
   "source": [
    "df['KEYWORDS'][0]"
   ]
  },
  {
   "cell_type": "code",
   "execution_count": 6,
   "metadata": {},
   "outputs": [
    {
     "data": {
      "text/plain": [
       "'Libyan coastguard intercepts boat carrying over 100 migrants'"
      ]
     },
     "execution_count": 6,
     "metadata": {},
     "output_type": "execute_result"
    }
   ],
   "source": [
    "df['TITLE'][0]"
   ]
  },
  {
   "cell_type": "code",
   "execution_count": 7,
   "metadata": {},
   "outputs": [
    {
     "data": {
      "text/plain": [
       "\"ROUGH CUT (NO REPORTER NARRATION). Libya's coastguard intercepted a boat carrying 128 migrants on Monday (August 28) which according to one of those onboard was headed for Italy. Coastguard official Ashraf al-Badry said the migrants were found onboard a dinghy, were moved onto a coastguard ship before being taken to a Tripoli naval base. They were later taken to a detention centre in the capital. One Tunisian migrant, Basheer Ben Ali, said he paid a smuggler 2000 Libyan dinars (1,503 USD) to board the boat but the engine was too weak to make enough progress across the Mediterranean Sea. It comes as the leaders of Germany, Italy, Spain, Chad, Niger and Libya meet in Paris for a migration summit on Monday. An Elysee official said the agenda would include ideas on fighting people traffickers, asylum rights and stabilising chaotic Libya, where thousands of migrants end up before embarking on a perilous Mediterranean sea journey to Europe. Nearly 120,000 migrants, including refugees, have entered Europe by sea so far this year, according to the International Organization for Migration. More than 2,400 have drowned while making the dangerous odyssey, often in overcrowded dinghies run by people smugglers without enough food or water.\""
      ]
     },
     "execution_count": 7,
     "metadata": {},
     "output_type": "execute_result"
    }
   ],
   "source": [
    "df['TEXT'][0]"
   ]
  },
  {
   "cell_type": "code",
   "execution_count": 8,
   "metadata": {},
   "outputs": [
    {
     "data": {
      "text/plain": [
       "\"Libya's coastguard intercepted a boat carrying 128 migrants on Monday (August 28) which according to one of those onboard was headed for Italy.\\nCoastguard official Ashraf al-Badry said the migrants were found onboard a dinghy, were moved onto a coastguard ship before being taken to a Tripoli naval base.\\nOne Tunisian migrant, Basheer Ben Ali, said he paid a smuggler 2000 Libyan dinars (1,503 USD) to board the boat but the engine was too weak to make enough progress across the Mediterranean Sea.\\nIt comes as the leaders of Germany, Italy, Spain, Chad, Niger and Libya meet in Paris for a migration summit on Monday.\\nNearly 120,000 migrants, including refugees, have entered Europe by sea so far this year, according to the International Organization for Migration.\""
      ]
     },
     "execution_count": 8,
     "metadata": {},
     "output_type": "execute_result"
    }
   ],
   "source": [
    "df['SUMMARY'][0]"
   ]
  },
  {
   "cell_type": "code",
   "execution_count": 9,
   "metadata": {},
   "outputs": [
    {
     "data": {
      "text/plain": [
       "'https://www.reuters.com/video/2017/08/29/libyan-coastguard-intercepts-boat-carryi?videoId=372417964&videoChannel=118206&channelName=Migrant+Crisis'"
      ]
     },
     "execution_count": 9,
     "metadata": {},
     "output_type": "execute_result"
    }
   ],
   "source": [
    "df['URL'][0]"
   ]
  },
  {
   "cell_type": "code",
   "execution_count": null,
   "metadata": {
    "collapsed": true
   },
   "outputs": [],
   "source": []
  }
 ],
 "metadata": {
  "kernelspec": {
   "display_name": "Python 3",
   "language": "python",
   "name": "python3"
  },
  "language_info": {
   "codemirror_mode": {
    "name": "ipython",
    "version": 3
   },
   "file_extension": ".py",
   "mimetype": "text/x-python",
   "name": "python",
   "nbconvert_exporter": "python",
   "pygments_lexer": "ipython3",
   "version": "3.5.2"
  }
 },
 "nbformat": 4,
 "nbformat_minor": 2
}
