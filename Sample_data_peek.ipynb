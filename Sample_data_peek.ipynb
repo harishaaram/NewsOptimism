{
 "cells": [
  {
   "cell_type": "code",
   "execution_count": 1,
   "metadata": {},
   "outputs": [],
   "source": [
    "import pandas as pd\n",
    "import os\n",
    "os.chdir('/home/harish/PycharmProjects/NewsOptimism/')\n",
    "df = pd.read_csv('reuters.csv')\n",
    "df = df.dropna(how='any')\n",
    "# df.head()\n",
    "# df.tail()"
   ]
  },
  {
   "cell_type": "code",
   "execution_count": 2,
   "metadata": {
    "collapsed": true
   },
   "outputs": [],
   "source": [
    "#Have a peek into the data set(here I am using the first(ie 0th) index)"
   ]
  },
  {
   "cell_type": "code",
   "execution_count": 3,
   "metadata": {},
   "outputs": [
    {
     "data": {
      "text/plain": [
       "\"['coastguard', 'italy', '100', 'boat', 'official', 'intercepts', 'mediterranean', 'migration', 'migrants', 'sea', 'taken', 'libyan', 'carrying', 'libya', 'onboard']\""
      ]
     },
     "execution_count": 3,
     "metadata": {},
     "output_type": "execute_result"
    }
   ],
   "source": [
    "df['KEYWORDS'][0]"
   ]
  },
  {
   "cell_type": "code",
   "execution_count": 4,
   "metadata": {},
   "outputs": [
    {
     "data": {
      "text/plain": [
       "'Libyan coastguard intercepts boat carrying over 100 migrants'"
      ]
     },
     "execution_count": 4,
     "metadata": {},
     "output_type": "execute_result"
    }
   ],
   "source": [
    "df['TITLE'][0]"
   ]
  },
  {
   "cell_type": "code",
   "execution_count": 5,
   "metadata": {},
   "outputs": [
    {
     "data": {
      "text/plain": [
       "\"ROUGH CUT (NO REPORTER NARRATION). Libya's coastguard intercepted a boat carrying 128 migrants on Monday (August 28) which according to one of those onboard was headed for Italy. Coastguard official Ashraf al-Badry said the migrants were found onboard a dinghy, were moved onto a coastguard ship before being taken to a Tripoli naval base. They were later taken to a detention centre in the capital. One Tunisian migrant, Basheer Ben Ali, said he paid a smuggler 2000 Libyan dinars (1,503 USD) to board the boat but the engine was too weak to make enough progress across the Mediterranean Sea. It comes as the leaders of Germany, Italy, Spain, Chad, Niger and Libya meet in Paris for a migration summit on Monday. An Elysee official said the agenda would include ideas on fighting people traffickers, asylum rights and stabilising chaotic Libya, where thousands of migrants end up before embarking on a perilous Mediterranean sea journey to Europe. Nearly 120,000 migrants, including refugees, have entered Europe by sea so far this year, according to the International Organization for Migration. More than 2,400 have drowned while making the dangerous odyssey, often in overcrowded dinghies run by people smugglers without enough food or water.\""
      ]
     },
     "execution_count": 5,
     "metadata": {},
     "output_type": "execute_result"
    }
   ],
   "source": [
    "df['TEXT'][0]"
   ]
  },
  {
   "cell_type": "code",
   "execution_count": 6,
   "metadata": {},
   "outputs": [
    {
     "data": {
      "text/plain": [
       "\"Libya's coastguard intercepted a boat carrying 128 migrants on Monday (August 28) which according to one of those onboard was headed for Italy.\\nCoastguard official Ashraf al-Badry said the migrants were found onboard a dinghy, were moved onto a coastguard ship before being taken to a Tripoli naval base.\\nOne Tunisian migrant, Basheer Ben Ali, said he paid a smuggler 2000 Libyan dinars (1,503 USD) to board the boat but the engine was too weak to make enough progress across the Mediterranean Sea.\\nIt comes as the leaders of Germany, Italy, Spain, Chad, Niger and Libya meet in Paris for a migration summit on Monday.\\nNearly 120,000 migrants, including refugees, have entered Europe by sea so far this year, according to the International Organization for Migration.\""
      ]
     },
     "execution_count": 6,
     "metadata": {},
     "output_type": "execute_result"
    }
   ],
   "source": [
    "df['SUMMARY'][0]"
   ]
  },
  {
   "cell_type": "code",
   "execution_count": 7,
   "metadata": {},
   "outputs": [
    {
     "data": {
      "text/plain": [
       "'https://www.reuters.com/video/2017/08/29/libyan-coastguard-intercepts-boat-carryi?videoId=372417964&videoChannel=118206&channelName=Migrant+Crisis'"
      ]
     },
     "execution_count": 7,
     "metadata": {},
     "output_type": "execute_result"
    }
   ],
   "source": [
    "df['URL'][0]"
   ]
  },
  {
   "cell_type": "code",
   "execution_count": null,
   "metadata": {
    "collapsed": true
   },
   "outputs": [],
   "source": []
  }
 ],
 "metadata": {
  "kernelspec": {
   "display_name": "Python 3",
   "language": "python",
   "name": "python3"
  },
  "language_info": {
   "codemirror_mode": {
    "name": "ipython",
    "version": 3
   },
   "file_extension": ".py",
   "mimetype": "text/x-python",
   "name": "python",
   "nbconvert_exporter": "python",
   "pygments_lexer": "ipython3",
   "version": "3.5.2"
  }
 },
 "nbformat": 4,
 "nbformat_minor": 2
}
